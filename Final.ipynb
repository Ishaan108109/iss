{
 "cells": [
  {
   "cell_type": "code",
   "execution_count": null,
   "id": "21e3c941",
   "metadata": {
    "collapsed": true
   },
   "outputs": [],
   "source": [
    "def func():\n",
    "    import requests\n",
    "    import csv\n",
    "    import pandas as pd\n",
    "    import json\n",
    "    \n",
    "# importing data from api\n",
    "    response_API = requests.get('https://api.wheretheiss.at/v1/satellites/25544')\n",
    "    data = response_API.text\n",
    "    data1=json.loads(data)\n",
    "    \n",
    "# km/hr to miles per sec\n",
    "    data1['velocityNew']=data1['velocity']*0.000172603\n",
    "    data1.update({'velocityNew':data1['velocity']*0.000172603})\n",
    "    with open('data1.json','w') as f:\n",
    "            json.dump(data1,f,indent = 4, sort_keys = True)\n",
    "\n",
    "# storing data in a csv  \n",
    "    pdObj = pd.read_json('data1.json', orient='index')\n",
    "    csvData = pdObj.to_csv(index=True)\n",
    "    pdObj.to_csv('data1.csv', index=True)\n",
    "\n",
    "    \n",
    "# scheduling the function\n",
    "import time\n",
    "import schedule\n",
    "\n",
    "schedule.every().day.at(\"12:00\").do(func)\n",
    "\n",
    "while(True):\n",
    "        schedule.run_pending()\n",
    "        time.sleep(1)\n",
    "    "
   ]
  },
  {
   "cell_type": "code",
   "execution_count": null,
   "id": "64c275e6",
   "metadata": {},
   "outputs": [],
   "source": []
  }
 ],
 "metadata": {
  "kernelspec": {
   "display_name": "Python 3 (ipykernel)",
   "language": "python",
   "name": "python3"
  },
  "language_info": {
   "codemirror_mode": {
    "name": "ipython",
    "version": 3
   },
   "file_extension": ".py",
   "mimetype": "text/x-python",
   "name": "python",
   "nbconvert_exporter": "python",
   "pygments_lexer": "ipython3",
   "version": "3.9.7"
  }
 },
 "nbformat": 4,
 "nbformat_minor": 5
}
